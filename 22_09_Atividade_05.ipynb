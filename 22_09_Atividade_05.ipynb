{
  "nbformat": 4,
  "nbformat_minor": 0,
  "metadata": {
    "colab": {
      "provenance": [],
      "include_colab_link": true
    },
    "kernelspec": {
      "name": "python3",
      "display_name": "Python 3"
    },
    "language_info": {
      "name": "python"
    }
  },
  "cells": [
    {
      "cell_type": "markdown",
      "metadata": {
        "id": "view-in-github",
        "colab_type": "text"
      },
      "source": [
        "<a href=\"https://colab.research.google.com/github/brenoviard/ads_logicaprogramacao/blob/main/22_09_Atividade_05.ipynb\" target=\"_parent\"><img src=\"https://colab.research.google.com/assets/colab-badge.svg\" alt=\"Open In Colab\"/></a>"
      ]
    },
    {
      "cell_type": "markdown",
      "source": [
        "# **QUESTÃO 01:**\n",
        "\n",
        "Você foi contratado para criar um programa de gerenciamento de estacionamento para um shopping center. O estacionamento tem três tipos de vagas: padrão, VIP e para deficientes. Cada tipo de vaga possui uma taxa de estacionamento diferente. O programa deve calcular o valor a ser pago com base na categoria da vaga e o tempo de permanência do veículo.\n",
        "\n",
        "**Instruções:**\n",
        "\n",
        "Crie um programa Python que solicita ao usuário a categoria da vaga (padrao, vip, deficiente) e o tempo de permanência em horas. Com base nessas informações, use estruturas if, elif e else para calcular e exibir o valor a ser pago de acordo com as taxas a seguir:\n",
        "\n",
        "Vagas padrão: R$ 5,00 por hora\n",
        "\n",
        "Vagas VIP: R$ 1,00 por hora.\n",
        "\n",
        "Vagas para deficientes: Grátis."
      ],
      "metadata": {
        "id": "eq3NPwa_h5tG"
      }
    },
    {
      "cell_type": "code",
      "execution_count": 5,
      "metadata": {
        "id": "8vkm_bE0fFJT",
        "colab": {
          "base_uri": "https://localhost:8080/"
        },
        "outputId": "bc5b11e4-6a14-46cd-a5c0-f97af9e3730e"
      },
      "outputs": [
        {
          "output_type": "stream",
          "name": "stdout",
          "text": [
            "\t\tESTACIONAMENTO!\n",
            "Escolha a opção de estacionamento:\n",
            "1 - Padrão\n",
            "2 - VIP\n",
            "3 - Deficiente\n",
            "1\n",
            "Informe o tempo de permanencia no estacionamento: 4\n",
            "Taxa da vaga selecionada: R$ 5.00\n",
            "Tempo de duração 4.0 horas\n",
            "Total a pagar: R$ 20.000000\n"
          ]
        }
      ],
      "source": [
        "from prompt_toolkit.key_binding.bindings.completion import E\n",
        "print('\\t\\tESTACIONAMENTO!')\n",
        "tipo_vaga = int(input('Escolha a opção de estacionamento:\\n1 - Padrão\\n2 - VIP\\n3 - Deficiente\\n'))\n",
        "duracao = float(input('Informe o tempo de permanencia no estacionamento: '))\n",
        "\n",
        "if tipo_vaga == 1:\n",
        "  taxa = 5\n",
        "elif tipo_vaga == 2:\n",
        "  taxa = 1\n",
        "else:\n",
        "  taxa = 0\n",
        "\n",
        "total_pagar = taxa * duracao\n",
        "\n",
        "print(f'Taxa da vaga selecionada: R$ {taxa:.2f}\\nTempo de duração {duracao} horas')\n",
        "print(f'Total a pagar: R$ {total_pagar:.2f}')"
      ]
    },
    {
      "cell_type": "markdown",
      "source": [
        "# **QUESTÃO 02**:\n",
        "Imagine que você é um professor universitário encarregado de desenvolver um sistema de controle de acesso para a biblioteca da sua universidade. Este sistema precisa lidar com diferentes categorias de pessoas, incluindo alunos de graduação, pós-graduação, professores e visitantes, cada um com critérios específicos de acesso. Para criar esse sistema, você utiliza a linguagem de programação Python. Os critérios são os seguintes: alunos de graduação têm acesso em todos os dias da semana; alunos de pós-graduação podem acessar em todos os dias, exceto aos sábados e domingos; professores têm acesso em todos os dias; e visitantes não têm acesso. O programa solicita a categoria da pessoa e o dia da semana em que desejam acessar a biblioteca. Com base nas respostas, você pode usar estruturas condicionais if, elif e else, bem como operadores lógicos and e or, para determinar se a pessoa pode ou não entrar na biblioteca e exibe uma mensagem apropriada. Isso garante um controle eficaz de acesso à biblioteca, considerando os diferentes perfis de usuários e dias da semana."
      ],
      "metadata": {
        "id": "tiyp4ynrfJlF"
      }
    },
    {
      "cell_type": "code",
      "source": [
        "print('Programa de Acesso')\n",
        "user = str(input('Informe o tipo de usuário:\\nG - Graduação\\nP - Pós-Graduação\\nT - Professor\\nV - Visitante\\n'))\n",
        "\n",
        "if user.upper() == 'G' or user.upper() == 'T':\n",
        "  print('Acesso liberado!')\n",
        "elif user.upper() == 'V':\n",
        "  print('Acesso negado a visitantes!')\n",
        "else:\n",
        "  day = int(input('Informe o dia da semana:\\n1 - Domingo\\n2 - Segunda\\n3 - Terça\\n4 - Quarta\\n5 - Quinta\\n6 - Sexta\\n7 - Sábado\\n'))\n",
        "  if day == 1 or day == 7:\n",
        "    print('Acesso proibido para estudantes de Pós-graduação aos fins de semana.')\n",
        "  else:\n",
        "    print('Acesso liberado!')"
      ],
      "metadata": {
        "id": "3TuGlkbAh7at",
        "colab": {
          "base_uri": "https://localhost:8080/"
        },
        "outputId": "f0429ba7-ab51-4320-bc3a-5fb8d6aafd1b"
      },
      "execution_count": 12,
      "outputs": [
        {
          "output_type": "stream",
          "name": "stdout",
          "text": [
            "Programa de Acesso\n",
            "Informe o tipo de usuário:\n",
            "G - Graduação\n",
            "P - Pós-Graduação\n",
            "T - Professor\n",
            "V - Visitante\n",
            "p\n",
            "Informe o dia da semana:\n",
            "1 - Domingo\n",
            "2 - Segunda\n",
            "3 - Terça\n",
            "4 - Quarta\n",
            "5 - Quinta\n",
            "6 - Sexta\n",
            "7 - Sábado\n",
            "2\n",
            "Acesso liberado!\n"
          ]
        }
      ]
    },
    {
      "cell_type": "markdown",
      "source": [
        "# **QUESTÃO 03:**\n",
        "Faça um programa que faça 5 perguntas para uma pessoa sobre um crime. As perguntas são:\n",
        "\n",
        "\"Telefonou para a vítima?\"\n",
        "\n",
        "\"Esteve no local do crime?\"\n",
        "\n",
        "\"Mora perto da vítima?\"\n",
        "\n",
        "\"Devia para a vítima?\"\n",
        "\n",
        "\"Já trabalhou com a vítima?\"\n",
        "\n",
        "\n",
        "O programa deve no final emitir uma classificação sobre a participação da pessoa no crime. Se a pessoa responder positivamente a 2 questões ela deve ser classificada como \"Suspeita\", entre 3 e 4 como \"Cúmplice\" e 5 como \"Assassino\". Caso contrário, ele será classificado como \"Inocente\".\n",
        "\n"
      ],
      "metadata": {
        "id": "-dEskA5-j81_"
      }
    },
    {
      "cell_type": "code",
      "source": [
        "print('Interrogatório!')\n",
        "\n",
        "question_1 = int(input('Telefonou para a vítima? 1 - Sim / 0 - Não '))\n",
        "question_2 = int(input('Esteve no local do crime? 1 - Sim / 0 - Não '))\n",
        "question_3 = int(input('Mora perto da vítima? 1 - Sim / 0 - Não '))\n",
        "question_4 = int(input('Devia para a vítima? 1 - Sim / 0 - Não '))\n",
        "question_5 = int(input('Já trabalhou com a vítima? 1 - Sim / 0 - Não '))\n",
        "\n",
        "cont = question_1 + question_2 + question_3 + question_4 + question_5\n",
        "\n",
        "if cont < 2:\n",
        "  print('O interrogado não tem relação com o crime!')\n",
        "elif cont == 2:\n",
        "  print('O interrogado se enquadra com Suspeito!')\n",
        "elif cont < 5:\n",
        "  print('O interrogado se enquadra como Cúmplice!')\n",
        "else:\n",
        "  print('O interrogado se enquadra como Assassino!')\n",
        "\n"
      ],
      "metadata": {
        "id": "MaoFUI1onnUY",
        "colab": {
          "base_uri": "https://localhost:8080/"
        },
        "outputId": "45fb3b26-8191-4390-ebf9-814b7cd55077"
      },
      "execution_count": 17,
      "outputs": [
        {
          "output_type": "stream",
          "name": "stdout",
          "text": [
            "Interrogatório!\n",
            "Telefonou para a vítima? 1 - Sim / 0 - Não 0\n",
            "Esteve no local do crime? 1 - Sim / 0 - Não 0\n",
            "Mora perto da vítima? 1 - Sim / 0 - Não 1\n",
            "Devia para a vítima? 1 - Sim / 0 - Não 1\n",
            "Já trabalhou com a vítima? 1 - Sim / 0 - Não 11\n",
            "O interrogado se enquadra como Cúmplice!\n"
          ]
        }
      ]
    },
    {
      "cell_type": "markdown",
      "source": [
        "# **QUESTÃO 04:**\n",
        "\n",
        "Um posto está vendendo combustíveis com a seguinte tabela de descontos:\n",
        "\n",
        "Álcool: até 20 litros, desconto de 3% por litro acima de 20 litros, desconto de 5% por litro\n",
        "\n",
        "Gasolina: até 20 litros, desconto de 4% por litro acima de 20 litros, desconto de 6% por litro\n",
        "\n",
        "Escreva um algoritmo que leia o número de litros vendidos, o tipo de combustível (codificado da seguinte forma: A-álcool, G-gasolina), calcule e imprima o valor a ser pago pelo cliente sabendo-se que o preço do litro da gasolina é 6,50 o preço do litro do álcool é R$ 4,90.\n"
      ],
      "metadata": {
        "id": "Iqlrx07PnnsQ"
      }
    },
    {
      "cell_type": "code",
      "source": [
        "print('Bem-vindo ao Posto Aperipê II')\n",
        "fuel = str(input('Informe o tipo de combustível: A - Álcool / G - Gasolina '))\n",
        "amount = float(input('Informe a quantidade de combustível desejada (L): '))\n",
        "\n",
        "alcool_price = 4.9\n",
        "gas_price = 6.5\n",
        "alcool_desc_under = 0.03\n",
        "alcool_desc_over = 0.05\n",
        "gas_desc_under = 0.04\n",
        "gas_desc_over = 0.06\n",
        "\n",
        "if fuel.upper() == 'G' and amount <= 20:\n",
        "  total_pay = gas_price * amount * (1 - gas_desc_under)\n",
        "elif fuel.upper() == 'G':\n",
        "  total_pay = gas_price * amount * (1 - gas_desc_over)\n",
        "elif fuel.upper() == 'A' and amount <= 20:\n",
        "  total_pay = alcool_price * amount * (1 - alcool_desc_under)\n",
        "else:\n",
        "  total_pay = alcool_price * amount * (1 - alcool_desc_over)\n",
        "\n",
        "print(f'Total a pagar: R$ {total_pay:.2f}')"
      ],
      "metadata": {
        "id": "ORjCJYT7oSRi",
        "colab": {
          "base_uri": "https://localhost:8080/"
        },
        "outputId": "b675988c-fc60-4736-828b-5069b09dd299"
      },
      "execution_count": 21,
      "outputs": [
        {
          "output_type": "stream",
          "name": "stdout",
          "text": [
            "Bem-vindo ao Posto Aperipê II\n",
            "Informe o tipo de combustível: A - Álcool / G - Gasolina a\n",
            "Informe a quantidade de combustível desejada (L): 50\n",
            "Total a pagar: R$ 232.75\n"
          ]
        }
      ]
    }
  ]
}