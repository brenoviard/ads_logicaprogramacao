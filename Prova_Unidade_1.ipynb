{
  "nbformat": 4,
  "nbformat_minor": 0,
  "metadata": {
    "colab": {
      "provenance": [],
      "authorship_tag": "ABX9TyOdLbxFY4M6O/XchoexsImh",
      "include_colab_link": true
    },
    "kernelspec": {
      "name": "python3",
      "display_name": "Python 3"
    },
    "language_info": {
      "name": "python"
    }
  },
  "cells": [
    {
      "cell_type": "markdown",
      "metadata": {
        "id": "view-in-github",
        "colab_type": "text"
      },
      "source": [
        "<a href=\"https://colab.research.google.com/github/brenoviard/ads_logicaprogramacao/blob/main/Prova_Unidade_1.ipynb\" target=\"_parent\"><img src=\"https://colab.research.google.com/assets/colab-badge.svg\" alt=\"Open In Colab\"/></a>"
      ]
    },
    {
      "cell_type": "markdown",
      "source": [
        "Questão 01 - Em um jogo, um jogador inicia com 20 pontos. Para vencer, ele deve acumular mais de 50 pontos ou perder se cair abaixo de 0 pontos. Cada jogo bem-sucedido adiciona 5 pontos à sua pontuação total, enquanto cada jogo mal-sucedido subtrai 3 pontos. O jogador deve indicar \"C\" para correto e \"E\" para errado a cada jogo. Ao final do jogo, o programa deve informar se o jogador ganhou ou perdeu, além de revelar quantas rodadas aconteceram no jogo."
      ],
      "metadata": {
        "id": "0D65Tk3Q2ClP"
      }
    },
    {
      "cell_type": "code",
      "execution_count": 11,
      "metadata": {
        "colab": {
          "base_uri": "https://localhost:8080/"
        },
        "id": "BlxMu54k1_gR",
        "outputId": "39c507b2-a673-4e9e-8276-7aa459d5e0af"
      },
      "outputs": [
        {
          "output_type": "stream",
          "name": "stdout",
          "text": [
            "Resposta questão 1 (C - Correto / E - Errado: ):c\n",
            "1 25\n",
            "Resposta questão 2 (C - Correto / E - Errado: ):e\n",
            "2 22\n",
            "Resposta questão 3 (C - Correto / E - Errado: ):g\n",
            "Opção inválida!\n",
            "2 22\n",
            "Resposta questão 3 (C - Correto / E - Errado: ):c\n",
            "3 27\n",
            "Resposta questão 4 (C - Correto / E - Errado: ):c\n",
            "4 32\n",
            "Resposta questão 5 (C - Correto / E - Errado: ):c\n",
            "5 37\n",
            "Resposta questão 6 (C - Correto / E - Errado: ):c\n",
            "6 42\n",
            "Resposta questão 7 (C - Correto / E - Errado: ):c\n",
            "7 47\n",
            "Resposta questão 8 (C - Correto / E - Errado: ):c\n",
            "Você marcou 50 pontos e venceu em 8 rodadas.\n"
          ]
        }
      ],
      "source": [
        "pontos = 20\n",
        "contador = 0\n",
        "while True:\n",
        "  resposta = str(input(f'Resposta questão {contador + 1 } (C - Correto / E - Errado: ):'))\n",
        "  if resposta == 'C' or resposta == 'c':\n",
        "    pontos += 5\n",
        "    contador += 1\n",
        "  elif resposta =='E' or resposta == 'e':\n",
        "    pontos -= 3\n",
        "    contador += 1\n",
        "  else:\n",
        "    print('Opção inválida!')\n",
        "\n",
        "  if pontos > 50 or pontos < 0:\n",
        "    break\n",
        "if pontos > 50:\n",
        "  print(f'Você marcou 50 pontos e venceu em {contador} rodadas.')\n",
        "else:\n",
        "  print(f'Você zerous seus pontos eperdeu em {contador} rodadas.')\n",
        "\n",
        "\n"
      ]
    },
    {
      "cell_type": "markdown",
      "source": [],
      "metadata": {
        "id": "J3Xqs51y2EWG"
      }
    },
    {
      "cell_type": "markdown",
      "source": [
        "Questão 02 - Uma empresa esportiva solicita seus serviços para realizar o monitoramento de uma competição de atletismo de 100 metros. O programa que você desenvolverá deverá ser capaz de:\n",
        "\n",
        "Declarar uma lista contendo os nomes de 5 atletas participantes.\n",
        "Registrar o tempo em segundos de cada atleta durante a corrida.\n",
        "Fornecer informações sobre o desempenho dos atletas, incluindo:\n",
        "O maior tempo registrado entre os corredores.\n",
        "O menor tempo registrado entre os corredores.\n",
        "A média dos tempos registrados durante a prova.\n"
      ],
      "metadata": {
        "id": "rxsLAE9G2Fxu"
      }
    },
    {
      "cell_type": "code",
      "source": [
        "atletas = ['Atleta A','Atleta B','Atleta C','Atleta D','Atleta E']\n",
        "melhor_tempo = float('inf')\n",
        "pior_tempo = 0\n",
        "media_tempo = 0\n",
        "tempo_total = 0\n",
        "for atleta in atletas:\n",
        "  print(atleta)\n",
        "  tempo = float(input(f'Informe o tempo do {atleta} em segundos: '))\n",
        "  tempo_total += tempo\n",
        "  media_tempo = tempo_total / 5\n",
        "  if tempo  < melhor_tempo:\n",
        "    melhor_tempo = tempo\n",
        "    melhor_atleta = atleta\n",
        "  if tempo > pior_tempo:\n",
        "    pior_tempo = tempo\n",
        "    pior_atleta = atleta\n",
        "print(f'A média de tempo dos atletas foi de {media_tempo:.2f} segundos!')\n",
        "print(f'O melhor tempo foi de {melhor_tempo} segundos do atleta {melhor_atleta}')\n",
        "print(f'O melhor tempo foi de {pior_tempo} segundos do atleta {pior_atleta}')"
      ],
      "metadata": {
        "colab": {
          "base_uri": "https://localhost:8080/"
        },
        "id": "fqIjwGh16AAg",
        "outputId": "6221a7bd-e0a3-495e-ceb1-cb9c357788d5"
      },
      "execution_count": 21,
      "outputs": [
        {
          "output_type": "stream",
          "name": "stdout",
          "text": [
            "Atleta A\n",
            "Informe o tempo do Atleta A em segundos: 11.2\n",
            "Atleta B\n",
            "Informe o tempo do Atleta B em segundos: 13\n",
            "Atleta C\n",
            "Informe o tempo do Atleta C em segundos: 9.5\n",
            "Atleta D\n",
            "Informe o tempo do Atleta D em segundos: 18\n",
            "Atleta E\n",
            "Informe o tempo do Atleta E em segundos: 9.9\n",
            "A média de tempo dos atletas foi de 12.32 segundos!\n",
            "O melhor tempo foi de 9.5 segundos do atleta Atleta C\n",
            "O melhor tempo foi de 18.0 segundos do atleta Atleta D\n"
          ]
        }
      ]
    }
  ]
}