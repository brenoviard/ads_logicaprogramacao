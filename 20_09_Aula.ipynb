{
  "nbformat": 4,
  "nbformat_minor": 0,
  "metadata": {
    "colab": {
      "provenance": [],
      "authorship_tag": "ABX9TyOgqJnlEUkuRM53o/2m1f9a",
      "include_colab_link": true
    },
    "kernelspec": {
      "name": "python3",
      "display_name": "Python 3"
    },
    "language_info": {
      "name": "python"
    }
  },
  "cells": [
    {
      "cell_type": "markdown",
      "metadata": {
        "id": "view-in-github",
        "colab_type": "text"
      },
      "source": [
        "<a href=\"https://colab.research.google.com/github/brenoviard/ads_logicaprogramacao/blob/main/20_09_Aula.ipynb\" target=\"_parent\"><img src=\"https://colab.research.google.com/assets/colab-badge.svg\" alt=\"Open In Colab\"/></a>"
      ]
    },
    {
      "cell_type": "markdown",
      "source": [
        "Q1. Faça um programa que peça dois números e imprima o maior deles"
      ],
      "metadata": {
        "id": "ljZajxY-ypjx"
      }
    },
    {
      "cell_type": "code",
      "execution_count": 4,
      "metadata": {
        "colab": {
          "base_uri": "https://localhost:8080/"
        },
        "id": "BWhon5Rxw3pP",
        "outputId": "b795fed8-3581-4fe0-df3f-fd83f3c3f92f"
      },
      "outputs": [
        {
          "output_type": "stream",
          "name": "stdout",
          "text": [
            "Digite o primeiro número: 3.7\n",
            "Digite o segundo número: 3.7\n",
            "Os números são iguais\n"
          ]
        }
      ],
      "source": [
        "num_1 = float(input('Digite o primeiro número: '))\n",
        "num_2 = float(input('Digite o segundo número: '))\n",
        "\n",
        "if num_1 > num_2:\n",
        " print(f'{num_1} é o maior dos dois')\n",
        "elif num_1 < num_2:\n",
        "  print(f'{num_2} é o maior dos dois')\n",
        "else:\n",
        "  print('Os números são iguais')"
      ]
    },
    {
      "cell_type": "markdown",
      "source": [
        "Q2. Faça um programa que peça um valor e mostre na tela se ele é positivo ou negativo"
      ],
      "metadata": {
        "id": "JQhfv_Ny3wDm"
      }
    },
    {
      "cell_type": "code",
      "source": [
        "num = int(input('Digite um número: '))\n",
        "\n",
        "if num > 0:\n",
        "  prinf(f'{num} é positivo')\n",
        "elif num < 0:\n",
        "  prinf(f'{num} é negativo')\n",
        "else:\n",
        "  print(f'{num} é neutro')"
      ],
      "metadata": {
        "colab": {
          "base_uri": "https://localhost:8080/"
        },
        "id": "tNSA-d_335HM",
        "outputId": "59c41989-d9d8-4584-a4d4-c207b9077b9c"
      },
      "execution_count": 5,
      "outputs": [
        {
          "output_type": "stream",
          "name": "stdout",
          "text": [
            "Digite um número: 0\n",
            "0 é neutro\n"
          ]
        }
      ]
    },
    {
      "cell_type": "markdown",
      "source": [
        "Q3. Faça um programa que verifique se uma letra digitada é 'F', 'M'. Conforme a letra escrever: F - feminino, M - masculino ou sexo inválido"
      ],
      "metadata": {
        "id": "OD8JuXm87fnR"
      }
    },
    {
      "cell_type": "code",
      "source": [
        "sexo = str(input('Infome o sexo [M/F]: '))\n",
        "\n",
        "if sexo.lower() == 'f':\n",
        "  print('Sexo feminino')\n",
        "elif sexo.lower() == 'm':\n",
        "  print('Sexo Masculino')\n",
        "else:\n",
        "  print('Sexo inválido')"
      ],
      "metadata": {
        "colab": {
          "base_uri": "https://localhost:8080/"
        },
        "id": "DJJJYwa67xWg",
        "outputId": "e54d2de9-c8b2-4b3c-d8b9-dc92304b82fe"
      },
      "execution_count": 11,
      "outputs": [
        {
          "output_type": "stream",
          "name": "stdout",
          "text": [
            "Infome o sexo [M/F]: 32\n",
            "Sexo inválido\n"
          ]
        }
      ]
    },
    {
      "cell_type": "markdown",
      "source": [
        "Q4. Faça um pograma que pergunte o preço de três produtos e informe qual produto você deve comprar, sabendo que a decisão é sempre pelo mais barato."
      ],
      "metadata": {
        "id": "11BU_aTqBu86"
      }
    },
    {
      "cell_type": "code",
      "source": [
        "prod_1 = float(input('Informe o preço do primeiro produto: '))\n",
        "prod_2 = float(input('Informe o preço do segundo produto: '))\n",
        "prod_3 = float(input('Informe o preço do terceiro produto: '))\n",
        "\n",
        "\n",
        "if (prod_1 <= prod_2) and (prod_1 <= prod_3):\n",
        "  print(f'Comprar produto de preço {prod_1}')\n",
        "elif (prod_2 <= prod_1) and (prod_2 <= prod_3):\n",
        "  print(f'Comprar produto de preço {prod_2}')\n",
        "else:\n",
        "   print(f'Comprar produto de preço {prod_3}')"
      ],
      "metadata": {
        "colab": {
          "base_uri": "https://localhost:8080/"
        },
        "id": "li5oJUQ1BugC",
        "outputId": "7d1e79b8-994b-434b-c4a6-e1edd8c70ca9"
      },
      "execution_count": 20,
      "outputs": [
        {
          "output_type": "stream",
          "name": "stdout",
          "text": [
            "Informe o preço do primeiro produto: 10\n",
            "Informe o preço do segundo produto: 20\n",
            "Informe o preço do terceiro produto: 10\n",
            "Comprar produto de preço 10.0\n"
          ]
        }
      ]
    },
    {
      "cell_type": "markdown",
      "source": [
        "Q5. Você é responsável por cirar um verificador de acesso para um evento. Os critérios de acesso são os seguinte:\n",
        "1. Ser maior de 18 anos;\n",
        "2. Se entre 16 e 17, acompanhado de adulto que tenha pelo menos 21 anos;\n",
        "3. Menores de 16 são proibidos."
      ],
      "metadata": {
        "id": "ZkWUp9QSHvUt"
      }
    },
    {
      "cell_type": "code",
      "source": [
        "idade = int(input('Informe a idade: '))\n",
        "\n",
        "if idade >= 18:\n",
        "  print('Acesso liberado.')\n",
        "elif idade >= 16:\n",
        "  idade_acomp = int(input('Infomre a idade do responsável: '))\n",
        "  if idade_acomp > 20:\n",
        "    print('Acesso liberado.')\n",
        "  else:\n",
        "    print('Necessário um responsável de pelo menos 21 anos.')\n",
        "else:\n",
        "  print('Acesso proibido para menores de 16 anos.')"
      ],
      "metadata": {
        "colab": {
          "base_uri": "https://localhost:8080/"
        },
        "id": "pTkMbw9THj_t",
        "outputId": "0463560c-eb13-4d50-9626-4558e9afc1b5"
      },
      "execution_count": 26,
      "outputs": [
        {
          "output_type": "stream",
          "name": "stdout",
          "text": [
            "Informe a idade: 17\n",
            "Infomre a idade do responsável: 22\n",
            "Acesso liberado.\n"
          ]
        }
      ]
    }
  ]
}